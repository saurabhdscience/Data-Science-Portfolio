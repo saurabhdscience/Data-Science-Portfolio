{
 "cells": [
  {
   "cell_type": "code",
   "execution_count": 209,
   "id": "ethical-steps",
   "metadata": {},
   "outputs": [],
   "source": [
    "# https://www.99acres.com/property-in-delhi-ncr-ffid-page-0\n",
    "import pandas as pd\n",
    "import numpy as np\n",
    "import seaborn as sns\n",
    "import matplotlib.pyplot as plt\n",
    "import warnings\n",
    "warnings.filterwarnings('ignore')"
   ]
  },
  {
   "cell_type": "code",
   "execution_count": 210,
   "id": "hidden-polymer",
   "metadata": {},
   "outputs": [],
   "source": [
    "df1 = pd.read_csv(\"99acres.csv\")"
   ]
  },
  {
   "cell_type": "code",
   "execution_count": 211,
   "id": "increased-morning",
   "metadata": {},
   "outputs": [
    {
     "data": {
      "text/plain": [
       "(6700, 4)"
      ]
     },
     "execution_count": 211,
     "metadata": {},
     "output_type": "execute_result"
    }
   ],
   "source": [
    "df1.shape"
   ]
  },
  {
   "cell_type": "markdown",
   "id": "plain-partition",
   "metadata": {},
   "source": [
    "## Explaoratory Data Analysis"
   ]
  },
  {
   "cell_type": "code",
   "execution_count": 212,
   "id": "median-fifty",
   "metadata": {},
   "outputs": [],
   "source": [
    "df2 = df1.drop(['location'], axis=1)"
   ]
  },
  {
   "cell_type": "code",
   "execution_count": 213,
   "id": "uniform-filing",
   "metadata": {},
   "outputs": [
    {
     "data": {
      "text/plain": [
       "(1409, 3)"
      ]
     },
     "execution_count": 213,
     "metadata": {},
     "output_type": "execute_result"
    }
   ],
   "source": [
    "# Check again duplicate data\n",
    "duplicate = df2[df2.duplicated()]\n",
    "duplicate.shape"
   ]
  },
  {
   "cell_type": "code",
   "execution_count": 214,
   "id": "handled-closing",
   "metadata": {},
   "outputs": [
    {
     "data": {
      "text/plain": [
       "price        0\n",
       "area         0\n",
       "bedroom    812\n",
       "dtype: int64"
      ]
     },
     "execution_count": 214,
     "metadata": {},
     "output_type": "execute_result"
    }
   ],
   "source": [
    "# check null values\n",
    "df2.isnull().sum()"
   ]
  },
  {
   "cell_type": "code",
   "execution_count": 215,
   "id": "finished-rebate",
   "metadata": {},
   "outputs": [],
   "source": [
    "df3 = df2.copy()\n",
    "df4 = df3.dropna()"
   ]
  },
  {
   "cell_type": "code",
   "execution_count": 216,
   "id": "demanding-camera",
   "metadata": {},
   "outputs": [
    {
     "data": {
      "text/plain": [
       "price      0\n",
       "area       0\n",
       "bedroom    0\n",
       "dtype: int64"
      ]
     },
     "execution_count": 216,
     "metadata": {},
     "output_type": "execute_result"
    }
   ],
   "source": [
    "# Again check null values\n",
    "df4.isnull().sum()"
   ]
  },
  {
   "cell_type": "code",
   "execution_count": 217,
   "id": "pointed-bruce",
   "metadata": {},
   "outputs": [
    {
     "data": {
      "text/plain": [
       "(5888, 3)"
      ]
     },
     "execution_count": 217,
     "metadata": {},
     "output_type": "execute_result"
    }
   ],
   "source": [
    "df4.shape"
   ]
  },
  {
   "cell_type": "code",
   "execution_count": 218,
   "id": "furnished-flash",
   "metadata": {},
   "outputs": [],
   "source": [
    "def cleaned_area():\n",
    "    results_list = []\n",
    "    for i, row in df4.iterrows():\n",
    "        area_list = row['area'].split(\" sq.ft.\")\n",
    "        area_str = area_list[0]\n",
    "\n",
    "        area_sub_list = area_str.split(\"-\")\n",
    "        # area_sub_list = area_sub_list[0]\n",
    "\n",
    "        if(len(area_sub_list)) == 2:\n",
    "            min_area = area_sub_list[0].replace(\",\", \"\")\n",
    "            max_area = area_sub_list[1].replace(\",\", \"\")\n",
    "            final_area = (float(min_area)+float(max_area))//2\n",
    "        else:\n",
    "            final_area = float(area_sub_list[0].replace(\",\", \"\"))\n",
    "        results_list.append(final_area)\n",
    "    return results_list"
   ]
  },
  {
   "cell_type": "code",
   "execution_count": 219,
   "id": "related-territory",
   "metadata": {},
   "outputs": [],
   "source": [
    "def cleaned_price():\n",
    "    results_list = []\n",
    "    for i, row in df4.iterrows():\n",
    "        price_list = row['price'].split(\"₹ \") # Split price here with this icon\n",
    "        # Now we have two or three items in each row\n",
    "        if(len(price_list) == 3):\n",
    "            split_min_max_price = price_list[1].split(\"-\") # Second element split with the space because first element is blank.\n",
    "            if(len(split_min_max_price) == 2):\n",
    "                min_price_list = split_min_max_price[0].strip().split(\" \")\n",
    "                max_price_list = split_min_max_price[1].strip().split(\" \")\n",
    "                if min_price_list[-1] == \"Lac\" and max_price_list[-1] == \"Cr\":\n",
    "                    # Lac And Cr\n",
    "                    min_price_string_in_cr = float(min_price_list[0])/100\n",
    "                    max_price_string_in_cr = float(max_price_list[0])\n",
    "                    final_price = (min_price_string_in_cr+max_price_string_in_cr)/2\n",
    "                elif(max_price_list[-1] == \"Lac\"):\n",
    "                    # Only Lac\n",
    "                    min_price_string_in_cr = float(min_price_list[0])/100\n",
    "                    max_price_string_in_cr = float(max_price_list[0])/100\n",
    "                    final_price = (min_price_string_in_cr+max_price_string_in_cr)/2\n",
    "                else:\n",
    "                    # Only Cr\n",
    "                    final_price = (float(min_price_list[0]) + float(max_price_list[0]))/2\n",
    "            else:\n",
    "                single_amount_with_unit = split_min_max_price[0].split()\n",
    "                if (single_amount_with_unit[-1] == \"Lac\"):\n",
    "                    final_price = float(single_amount_with_unit[0])/100\n",
    "                else:\n",
    "                    final_price = float(single_amount_with_unit[0])\n",
    "        elif(len(price_list) == 2):\n",
    "            split_min_max_price = price_list[1].split(\"-\")\n",
    "            if(len(split_min_max_price) == 2):\n",
    "                min_price_list = split_min_max_price[0].strip().split(\" \")\n",
    "                max_price_list = split_min_max_price[1].strip().split(\" \")\n",
    "                if min_price_list[-1] == \"Lac\" and max_price_list[-1] == \"Cr\":\n",
    "                    # Lac And Cr\n",
    "                    min_price_string_in_cr = float(min_price_list[0])/100\n",
    "                    max_price_string_in_cr = float(max_price_list[0])\n",
    "                    final_price = (min_price_string_in_cr+max_price_string_in_cr)/2\n",
    "                elif(max_price_list[-1] == \"Lac\"):\n",
    "                    # Only Lac\n",
    "                    min_price_string_in_cr = float(min_price_list[0])/100\n",
    "                    max_price_string_in_cr = float(max_price_list[0])/100\n",
    "                    final_price = (min_price_string_in_cr+max_price_string_in_cr)/2\n",
    "                else:\n",
    "                    # Only Cr\n",
    "                    final_price = (float(min_price_list[0]) + float(max_price_list[0]))/2\n",
    "            elif(max_price_list[-1] == \"Lac\"):\n",
    "                # Only Lac\n",
    "                min_price_string_in_cr = float(min_price_list[0])/100\n",
    "                max_price_string_in_cr = float(max_price_list[0])/100\n",
    "                final_price = (min_price_string_in_cr+max_price_string_in_cr)/2\n",
    "            else:\n",
    "                # Only Cr\n",
    "                final_price = (float(min_price_list[0]) + float(max_price_list[0]))/2\n",
    "        else:\n",
    "            final_price = np.NaN\n",
    "        results_list.append(float(final_price))\n",
    "    return results_list"
   ]
  },
  {
   "cell_type": "code",
   "execution_count": 220,
   "id": "corresponding-extra",
   "metadata": {},
   "outputs": [],
   "source": [
    "def separate_bedroom_and_bath():\n",
    "    bedrooms = df4['bedroom'].to_list()\n",
    "    results_list_1 = []\n",
    "    results_list_2 = []\n",
    "    for i in bedrooms:\n",
    "        seaprate_from_bath_list = i.split(\" Baths\")\n",
    "        if(len(seaprate_from_bath_list) == 2):\n",
    "            bhk, baths = seaprate_from_bath_list[0].split(\"BHK\")\n",
    "        else:\n",
    "            bhk = seaprate_from_bath_list[0].split(\" \")[0]\n",
    "            baths = bhk\n",
    "        \n",
    "        results_list_1.append(int(bhk.strip()))\n",
    "        results_list_2.append(int(baths.strip()))\n",
    "        \n",
    "    return results_list_1, results_list_2"
   ]
  },
  {
   "cell_type": "code",
   "execution_count": 221,
   "id": "headed-programming",
   "metadata": {},
   "outputs": [],
   "source": [
    "bhk, baths = separate_bedroom_and_bath()\n",
    "df4['bhk'] = bhk\n",
    "df4['baths'] = baths\n",
    "df4['area'] = cleaned_area()\n",
    "df4['price'] = cleaned_price()"
   ]
  },
  {
   "cell_type": "code",
   "execution_count": 222,
   "id": "victorian-botswana",
   "metadata": {},
   "outputs": [],
   "source": [
    "df5 = df4.copy()"
   ]
  },
  {
   "cell_type": "code",
   "execution_count": 223,
   "id": "classified-bridges",
   "metadata": {},
   "outputs": [
    {
     "data": {
      "text/plain": [
       "(5888, 5)"
      ]
     },
     "execution_count": 223,
     "metadata": {},
     "output_type": "execute_result"
    }
   ],
   "source": [
    "# Check Shape of data\n",
    "df5.shape"
   ]
  },
  {
   "cell_type": "code",
   "execution_count": 224,
   "id": "impossible-cambridge",
   "metadata": {},
   "outputs": [
    {
     "data": {
      "text/plain": [
       "price      132\n",
       "area         0\n",
       "bedroom      0\n",
       "bhk          0\n",
       "baths        0\n",
       "dtype: int64"
      ]
     },
     "execution_count": 224,
     "metadata": {},
     "output_type": "execute_result"
    }
   ],
   "source": [
    "# Check NA values\n",
    "df5.isnull().sum()"
   ]
  },
  {
   "cell_type": "code",
   "execution_count": 225,
   "id": "organic-financing",
   "metadata": {},
   "outputs": [],
   "source": [
    "# Fill na values with mean of price\n",
    "# df6['price_1'].fillna((df6['price_1'].mean()), inplace=True)\n",
    "df6 = df5.dropna()"
   ]
  },
  {
   "cell_type": "code",
   "execution_count": 226,
   "id": "departmental-texas",
   "metadata": {},
   "outputs": [
    {
     "data": {
      "text/plain": [
       "price      0\n",
       "area       0\n",
       "bedroom    0\n",
       "bhk        0\n",
       "baths      0\n",
       "dtype: int64"
      ]
     },
     "execution_count": 226,
     "metadata": {},
     "output_type": "execute_result"
    }
   ],
   "source": [
    "# Check NA values\n",
    "df6.isnull().sum()"
   ]
  },
  {
   "cell_type": "code",
   "execution_count": 227,
   "id": "identified-constraint",
   "metadata": {},
   "outputs": [
    {
     "data": {
      "text/html": [
       "<div>\n",
       "<style scoped>\n",
       "    .dataframe tbody tr th:only-of-type {\n",
       "        vertical-align: middle;\n",
       "    }\n",
       "\n",
       "    .dataframe tbody tr th {\n",
       "        vertical-align: top;\n",
       "    }\n",
       "\n",
       "    .dataframe thead th {\n",
       "        text-align: right;\n",
       "    }\n",
       "</style>\n",
       "<table border=\"1\" class=\"dataframe\">\n",
       "  <thead>\n",
       "    <tr style=\"text-align: right;\">\n",
       "      <th></th>\n",
       "      <th>price</th>\n",
       "      <th>area</th>\n",
       "      <th>bhk</th>\n",
       "      <th>baths</th>\n",
       "    </tr>\n",
       "  </thead>\n",
       "  <tbody>\n",
       "    <tr>\n",
       "      <th>count</th>\n",
       "      <td>5756.000000</td>\n",
       "      <td>5756.000000</td>\n",
       "      <td>5756.000000</td>\n",
       "      <td>5756.000000</td>\n",
       "    </tr>\n",
       "    <tr>\n",
       "      <th>mean</th>\n",
       "      <td>3.291213</td>\n",
       "      <td>3322.558026</td>\n",
       "      <td>3.375782</td>\n",
       "      <td>3.489576</td>\n",
       "    </tr>\n",
       "    <tr>\n",
       "      <th>std</th>\n",
       "      <td>5.425275</td>\n",
       "      <td>9398.818564</td>\n",
       "      <td>1.246938</td>\n",
       "      <td>1.469669</td>\n",
       "    </tr>\n",
       "    <tr>\n",
       "      <th>min</th>\n",
       "      <td>0.110000</td>\n",
       "      <td>1.000000</td>\n",
       "      <td>1.000000</td>\n",
       "      <td>1.000000</td>\n",
       "    </tr>\n",
       "    <tr>\n",
       "      <th>25%</th>\n",
       "      <td>0.800000</td>\n",
       "      <td>1440.000000</td>\n",
       "      <td>3.000000</td>\n",
       "      <td>3.000000</td>\n",
       "    </tr>\n",
       "    <tr>\n",
       "      <th>50%</th>\n",
       "      <td>1.700000</td>\n",
       "      <td>2097.000000</td>\n",
       "      <td>3.000000</td>\n",
       "      <td>3.000000</td>\n",
       "    </tr>\n",
       "    <tr>\n",
       "      <th>75%</th>\n",
       "      <td>3.750000</td>\n",
       "      <td>3045.000000</td>\n",
       "      <td>4.000000</td>\n",
       "      <td>4.000000</td>\n",
       "    </tr>\n",
       "    <tr>\n",
       "      <th>max</th>\n",
       "      <td>87.000000</td>\n",
       "      <td>392040.000000</td>\n",
       "      <td>20.000000</td>\n",
       "      <td>24.000000</td>\n",
       "    </tr>\n",
       "  </tbody>\n",
       "</table>\n",
       "</div>"
      ],
      "text/plain": [
       "             price           area          bhk        baths\n",
       "count  5756.000000    5756.000000  5756.000000  5756.000000\n",
       "mean      3.291213    3322.558026     3.375782     3.489576\n",
       "std       5.425275    9398.818564     1.246938     1.469669\n",
       "min       0.110000       1.000000     1.000000     1.000000\n",
       "25%       0.800000    1440.000000     3.000000     3.000000\n",
       "50%       1.700000    2097.000000     3.000000     3.000000\n",
       "75%       3.750000    3045.000000     4.000000     4.000000\n",
       "max      87.000000  392040.000000    20.000000    24.000000"
      ]
     },
     "execution_count": 227,
     "metadata": {},
     "output_type": "execute_result"
    }
   ],
   "source": [
    "df6.describe()"
   ]
  },
  {
   "cell_type": "code",
   "execution_count": 228,
   "id": "green-monster",
   "metadata": {},
   "outputs": [],
   "source": [
    "df7 = df6.drop(['bedroom'], axis=1)"
   ]
  },
  {
   "cell_type": "code",
   "execution_count": 229,
   "id": "rotary-wrapping",
   "metadata": {},
   "outputs": [],
   "source": [
    "Q1 = df7.quantile(0.25)\n",
    "Q3 = df7.quantile(0.75)\n",
    "IQR = Q3 - Q1"
   ]
  },
  {
   "cell_type": "code",
   "execution_count": 230,
   "id": "played-stable",
   "metadata": {},
   "outputs": [
    {
     "data": {
      "text/plain": [
       "(4926, 4)"
      ]
     },
     "execution_count": 230,
     "metadata": {},
     "output_type": "execute_result"
    }
   ],
   "source": [
    "df8 = df7[~((df7 < (Q1 - 1.5 * IQR)) |(df7 > (Q3 + 1.5 * IQR))).any(axis=1)]\n",
    "df8.shape"
   ]
  },
  {
   "cell_type": "code",
   "execution_count": 231,
   "id": "entertaining-philip",
   "metadata": {},
   "outputs": [
    {
     "data": {
      "text/html": [
       "<div>\n",
       "<style scoped>\n",
       "    .dataframe tbody tr th:only-of-type {\n",
       "        vertical-align: middle;\n",
       "    }\n",
       "\n",
       "    .dataframe tbody tr th {\n",
       "        vertical-align: top;\n",
       "    }\n",
       "\n",
       "    .dataframe thead th {\n",
       "        text-align: right;\n",
       "    }\n",
       "</style>\n",
       "<table border=\"1\" class=\"dataframe\">\n",
       "  <thead>\n",
       "    <tr style=\"text-align: right;\">\n",
       "      <th></th>\n",
       "      <th>price</th>\n",
       "      <th>area</th>\n",
       "      <th>bhk</th>\n",
       "      <th>baths</th>\n",
       "    </tr>\n",
       "  </thead>\n",
       "  <tbody>\n",
       "    <tr>\n",
       "      <th>0</th>\n",
       "      <td>1.900</td>\n",
       "      <td>2630.0</td>\n",
       "      <td>4</td>\n",
       "      <td>5</td>\n",
       "    </tr>\n",
       "    <tr>\n",
       "      <th>1</th>\n",
       "      <td>2.800</td>\n",
       "      <td>2588.0</td>\n",
       "      <td>3</td>\n",
       "      <td>3</td>\n",
       "    </tr>\n",
       "    <tr>\n",
       "      <th>2</th>\n",
       "      <td>1.700</td>\n",
       "      <td>1508.0</td>\n",
       "      <td>2</td>\n",
       "      <td>2</td>\n",
       "    </tr>\n",
       "    <tr>\n",
       "      <th>3</th>\n",
       "      <td>9.000</td>\n",
       "      <td>10500.0</td>\n",
       "      <td>5</td>\n",
       "      <td>5</td>\n",
       "    </tr>\n",
       "    <tr>\n",
       "      <th>4</th>\n",
       "      <td>1.775</td>\n",
       "      <td>1229.0</td>\n",
       "      <td>2</td>\n",
       "      <td>2</td>\n",
       "    </tr>\n",
       "    <tr>\n",
       "      <th>...</th>\n",
       "      <td>...</td>\n",
       "      <td>...</td>\n",
       "      <td>...</td>\n",
       "      <td>...</td>\n",
       "    </tr>\n",
       "    <tr>\n",
       "      <th>6695</th>\n",
       "      <td>1.750</td>\n",
       "      <td>2630.0</td>\n",
       "      <td>4</td>\n",
       "      <td>5</td>\n",
       "    </tr>\n",
       "    <tr>\n",
       "      <th>6696</th>\n",
       "      <td>7.020</td>\n",
       "      <td>8800.0</td>\n",
       "      <td>5</td>\n",
       "      <td>5</td>\n",
       "    </tr>\n",
       "    <tr>\n",
       "      <th>6697</th>\n",
       "      <td>4.100</td>\n",
       "      <td>4857.0</td>\n",
       "      <td>4</td>\n",
       "      <td>4</td>\n",
       "    </tr>\n",
       "    <tr>\n",
       "      <th>6698</th>\n",
       "      <td>2.100</td>\n",
       "      <td>3880.0</td>\n",
       "      <td>5</td>\n",
       "      <td>5</td>\n",
       "    </tr>\n",
       "    <tr>\n",
       "      <th>6699</th>\n",
       "      <td>2.100</td>\n",
       "      <td>3880.0</td>\n",
       "      <td>5</td>\n",
       "      <td>5</td>\n",
       "    </tr>\n",
       "  </tbody>\n",
       "</table>\n",
       "<p>5756 rows × 4 columns</p>\n",
       "</div>"
      ],
      "text/plain": [
       "      price     area  bhk  baths\n",
       "0     1.900   2630.0    4      5\n",
       "1     2.800   2588.0    3      3\n",
       "2     1.700   1508.0    2      2\n",
       "3     9.000  10500.0    5      5\n",
       "4     1.775   1229.0    2      2\n",
       "...     ...      ...  ...    ...\n",
       "6695  1.750   2630.0    4      5\n",
       "6696  7.020   8800.0    5      5\n",
       "6697  4.100   4857.0    4      4\n",
       "6698  2.100   3880.0    5      5\n",
       "6699  2.100   3880.0    5      5\n",
       "\n",
       "[5756 rows x 4 columns]"
      ]
     },
     "execution_count": 231,
     "metadata": {},
     "output_type": "execute_result"
    }
   ],
   "source": [
    "df7"
   ]
  },
  {
   "cell_type": "markdown",
   "id": "tribal-edgar",
   "metadata": {},
   "source": [
    "### Feature Scalling"
   ]
  },
  {
   "cell_type": "code",
   "execution_count": 232,
   "id": "weighted-bottle",
   "metadata": {},
   "outputs": [],
   "source": [
    "from sklearn.preprocessing import MinMaxScaler\n",
    "min_max_scaler = MinMaxScaler()\n",
    "# With Min Max Scaler\n",
    "df_min_max_scaled = df8.copy()\n",
    "col_names = ['bhk', 'baths', 'area']\n",
    "features = df_min_max_scaled[col_names]\n",
    "df_min_max_scaled[col_names] = min_max_scaler.fit_transform(features.values)\n",
    "x = df_min_max_scaled[['bhk', 'baths', 'area']]\n",
    "y = df8['price']"
   ]
  },
  {
   "cell_type": "code",
   "execution_count": 233,
   "id": "expanded-graham",
   "metadata": {},
   "outputs": [],
   "source": [
    "# Standardization\n",
    "from sklearn.preprocessing import StandardScaler\n",
    "data = df8[['bhk', 'baths', 'area']]\n",
    "scaler = StandardScaler()\n",
    "scaler.fit(data)\n",
    "x = scaler.transform(data)\n",
    "y = df8['price']"
   ]
  },
  {
   "cell_type": "code",
   "execution_count": 234,
   "id": "sustainable-italy",
   "metadata": {},
   "outputs": [],
   "source": [
    "from sklearn.model_selection import train_test_split\n",
    "x_train, x_test, y_train, y_test = train_test_split(x, y, train_size=0.75, random_state=100)"
   ]
  },
  {
   "cell_type": "markdown",
   "id": "rocky-pittsburgh",
   "metadata": {},
   "source": [
    "## Model training"
   ]
  },
  {
   "cell_type": "code",
   "execution_count": 235,
   "id": "opened-express",
   "metadata": {},
   "outputs": [
    {
     "data": {
      "text/plain": [
       "0.44613654434672967"
      ]
     },
     "execution_count": 235,
     "metadata": {},
     "output_type": "execute_result"
    }
   ],
   "source": [
    "# Linear Regression\n",
    "from sklearn.linear_model import LinearRegression\n",
    "from sklearn.metrics import r2_score\n",
    "lr = LinearRegression()\n",
    "lr.fit(x_train, y_train)\n",
    "y_pred = lr.predict(x_test)\n",
    "r2_score(y_test, y_pred)"
   ]
  },
  {
   "cell_type": "code",
   "execution_count": 236,
   "id": "overhead-briefing",
   "metadata": {},
   "outputs": [
    {
     "data": {
      "text/plain": [
       "0.533648541330372"
      ]
     },
     "execution_count": 236,
     "metadata": {},
     "output_type": "execute_result"
    }
   ],
   "source": [
    "# KNN\n",
    "from sklearn.neighbors import KNeighborsRegressor\n",
    "neigh = KNeighborsRegressor(n_neighbors=20)\n",
    "neigh.fit(x_train, y_train)\n",
    "y_pred = neigh.predict(x_test)\n",
    "r2_score(y_test, y_pred)"
   ]
  },
  {
   "cell_type": "code",
   "execution_count": null,
   "id": "defined-orientation",
   "metadata": {},
   "outputs": [],
   "source": []
  }
 ],
 "metadata": {
  "kernelspec": {
   "display_name": "Python 3",
   "language": "python",
   "name": "python3"
  },
  "language_info": {
   "codemirror_mode": {
    "name": "ipython",
    "version": 3
   },
   "file_extension": ".py",
   "mimetype": "text/x-python",
   "name": "python",
   "nbconvert_exporter": "python",
   "pygments_lexer": "ipython3",
   "version": "3.6.9"
  }
 },
 "nbformat": 4,
 "nbformat_minor": 5
}
